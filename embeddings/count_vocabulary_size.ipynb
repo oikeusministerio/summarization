{
 "cells": [
  {
   "cell_type": "code",
   "execution_count": null,
   "metadata": {},
   "outputs": [],
   "source": [
    "from tools import load_data\n",
    "import numpy as np\n",
    "import pandas as pd\n",
    "import matplotlib.pyplot as plt\n",
    "from nltk import word_tokenize"
   ]
  },
  {
   "cell_type": "code",
   "execution_count": null,
   "metadata": {},
   "outputs": [],
   "source": [
    "texts = load_data('../judgements/data', N=-1)"
   ]
  },
  {
   "cell_type": "code",
   "execution_count": null,
   "metadata": {},
   "outputs": [],
   "source": [
    "words = texts['text'].apply(lambda text: word_tokenize(text.lower(), language=\"finnish\"))"
   ]
  },
  {
   "cell_type": "code",
   "execution_count": null,
   "metadata": {},
   "outputs": [],
   "source": [
    "def count_words(old_total, old_common, word_list):\n",
    "    old_total.update(word_list)\n",
    "    new_common = old_common.intersection(word_list)\n",
    "    return (old_total.copy(), new_common, len(old_total), len(new_common))\n",
    "\n",
    "total_vocabulary = set()\n",
    "common_words = set()\n",
    "common_words.update(words[0])\n",
    "\n",
    "count_results = []\n",
    "count_results.append((total_vocabulary, common_words, 0, 0))\n",
    "for i in range(len(words)):\n",
    "    total, common, _, __ = count_results[i]\n",
    "    count_results.append(count_words(total, common, words[i]))\n",
    "\n",
    "results = np.array(count_results)\n",
    "totals = results[:, 2]\n",
    "commons = results[:, 3]"
   ]
  },
  {
   "cell_type": "code",
   "execution_count": null,
   "metadata": {},
   "outputs": [],
   "source": [
    "commons"
   ]
  },
  {
   "cell_type": "code",
   "execution_count": null,
   "metadata": {},
   "outputs": [],
   "source": [
    "plt.plot(range(len(totals)), totals)\n",
    "plt.title(\"Uniikkien sanojen määrä \\n KHO:n päätökset 1990-2017\")\n",
    "plt.xlabel(\"KHO:n päätöksien määrä\")\n",
    "plt.ylabel(\"Sanojen määrä\")\n",
    "plt.savefig(\"visualisation/vocabulary_size_KHO_1990-2017.png\")"
   ]
  },
  {
   "cell_type": "code",
   "execution_count": null,
   "metadata": {},
   "outputs": [],
   "source": [
    "len(total_vocabulary)"
   ]
  }
 ],
 "metadata": {
  "kernelspec": {
   "display_name": "tensorflow pip",
   "language": "python",
   "name": "tensorflow"
  },
  "language_info": {
   "codemirror_mode": {
    "name": "ipython",
    "version": 3
   },
   "file_extension": ".py",
   "mimetype": "text/x-python",
   "name": "python",
   "nbconvert_exporter": "python",
   "pygments_lexer": "ipython3",
   "version": "3.5.2"
  }
 },
 "nbformat": 4,
 "nbformat_minor": 2
}
